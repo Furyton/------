{
 "metadata": {
  "language_info": {
   "codemirror_mode": {
    "name": "ipython",
    "version": 3
   },
   "file_extension": ".py",
   "mimetype": "text/x-python",
   "name": "python",
   "nbconvert_exporter": "python",
   "pygments_lexer": "ipython3",
   "version": "3.8.0-final"
  },
  "orig_nbformat": 2,
  "kernelspec": {
   "name": "python3",
   "display_name": "Python 3.8.0 64-bit",
   "metadata": {
    "interpreter": {
     "hash": "f283ad0438f7c9387977ad142fb2f07a3057b154ba6271301c692d8702e4fe58"
    }
   }
  }
 },
 "nbformat": 4,
 "nbformat_minor": 2,
 "cells": [
  {
   "cell_type": "code",
   "execution_count": 31,
   "metadata": {},
   "outputs": [],
   "source": [
    "import numpy as np\n",
    "import pandas as pd\n",
    "from sklearn.datasets import load_iris\n",
    "from sklearn.model_selection import train_test_split\n",
    "import matplotlib.pyplot as plt\n",
    "%matplotlib inline"
   ]
  },
  {
   "cell_type": "code",
   "execution_count": 129,
   "metadata": {},
   "outputs": [],
   "source": [
    "def create_data():\n",
    "    iris = load_iris()\n",
    "    df = pd.DataFrame(iris.data, columns=iris.feature_names)\n",
    "    df['label'] = iris.target\n",
    "    df.columns = [\n",
    "        'sepal length', 'sepal width', 'petal length', 'petal width', 'label'\n",
    "    ]\n",
    "    data = np.array(df.iloc[:100, [0,3, -1]])\n",
    "    for i in range(len(data)):\n",
    "        if data[i, -1] == 0:\n",
    "            data[i, -1] = -1\n",
    "    print(data)\n",
    "    return data[:, :2], data[:, -1]"
   ]
  },
  {
   "cell_type": "code",
   "execution_count": 130,
   "metadata": {},
   "outputs": [
    {
     "output_type": "stream",
     "name": "stdout",
     "text": [
      "[[ 5.1  0.2 -1. ]\n [ 4.9  0.2 -1. ]\n [ 4.7  0.2 -1. ]\n [ 4.6  0.2 -1. ]\n [ 5.   0.2 -1. ]\n [ 5.4  0.4 -1. ]\n [ 4.6  0.3 -1. ]\n [ 5.   0.2 -1. ]\n [ 4.4  0.2 -1. ]\n [ 4.9  0.1 -1. ]\n [ 5.4  0.2 -1. ]\n [ 4.8  0.2 -1. ]\n [ 4.8  0.1 -1. ]\n [ 4.3  0.1 -1. ]\n [ 5.8  0.2 -1. ]\n [ 5.7  0.4 -1. ]\n [ 5.4  0.4 -1. ]\n [ 5.1  0.3 -1. ]\n [ 5.7  0.3 -1. ]\n [ 5.1  0.3 -1. ]\n [ 5.4  0.2 -1. ]\n [ 5.1  0.4 -1. ]\n [ 4.6  0.2 -1. ]\n [ 5.1  0.5 -1. ]\n [ 4.8  0.2 -1. ]\n [ 5.   0.2 -1. ]\n [ 5.   0.4 -1. ]\n [ 5.2  0.2 -1. ]\n [ 5.2  0.2 -1. ]\n [ 4.7  0.2 -1. ]\n [ 4.8  0.2 -1. ]\n [ 5.4  0.4 -1. ]\n [ 5.2  0.1 -1. ]\n [ 5.5  0.2 -1. ]\n [ 4.9  0.2 -1. ]\n [ 5.   0.2 -1. ]\n [ 5.5  0.2 -1. ]\n [ 4.9  0.1 -1. ]\n [ 4.4  0.2 -1. ]\n [ 5.1  0.2 -1. ]\n [ 5.   0.3 -1. ]\n [ 4.5  0.3 -1. ]\n [ 4.4  0.2 -1. ]\n [ 5.   0.6 -1. ]\n [ 5.1  0.4 -1. ]\n [ 4.8  0.3 -1. ]\n [ 5.1  0.2 -1. ]\n [ 4.6  0.2 -1. ]\n [ 5.3  0.2 -1. ]\n [ 5.   0.2 -1. ]\n [ 7.   1.4  1. ]\n [ 6.4  1.5  1. ]\n [ 6.9  1.5  1. ]\n [ 5.5  1.3  1. ]\n [ 6.5  1.5  1. ]\n [ 5.7  1.3  1. ]\n [ 6.3  1.6  1. ]\n [ 4.9  1.   1. ]\n [ 6.6  1.3  1. ]\n [ 5.2  1.4  1. ]\n [ 5.   1.   1. ]\n [ 5.9  1.5  1. ]\n [ 6.   1.   1. ]\n [ 6.1  1.4  1. ]\n [ 5.6  1.3  1. ]\n [ 6.7  1.4  1. ]\n [ 5.6  1.5  1. ]\n [ 5.8  1.   1. ]\n [ 6.2  1.5  1. ]\n [ 5.6  1.1  1. ]\n [ 5.9  1.8  1. ]\n [ 6.1  1.3  1. ]\n [ 6.3  1.5  1. ]\n [ 6.1  1.2  1. ]\n [ 6.4  1.3  1. ]\n [ 6.6  1.4  1. ]\n [ 6.8  1.4  1. ]\n [ 6.7  1.7  1. ]\n [ 6.   1.5  1. ]\n [ 5.7  1.   1. ]\n [ 5.5  1.1  1. ]\n [ 5.5  1.   1. ]\n [ 5.8  1.2  1. ]\n [ 6.   1.6  1. ]\n [ 5.4  1.5  1. ]\n [ 6.   1.6  1. ]\n [ 6.7  1.5  1. ]\n [ 6.3  1.3  1. ]\n [ 5.6  1.3  1. ]\n [ 5.5  1.3  1. ]\n [ 5.5  1.2  1. ]\n [ 6.1  1.4  1. ]\n [ 5.8  1.2  1. ]\n [ 5.   1.   1. ]\n [ 5.6  1.3  1. ]\n [ 5.7  1.2  1. ]\n [ 5.7  1.3  1. ]\n [ 6.2  1.3  1. ]\n [ 5.1  1.1  1. ]\n [ 5.7  1.3  1. ]]\n"
     ]
    }
   ],
   "source": [
    "X, y = create_data()\n",
    "X_train, X_test, y_train, y_test = train_test_split(X, y, test_size=0.25)"
   ]
  },
  {
   "cell_type": "code",
   "execution_count": 131,
   "metadata": {},
   "outputs": [
    {
     "output_type": "execute_result",
     "data": {
      "text/plain": [
       "<matplotlib.legend.Legend at 0x24932453ac0>"
      ]
     },
     "metadata": {},
     "execution_count": 131
    },
    {
     "output_type": "display_data",
     "data": {
      "text/plain": "<Figure size 432x288 with 1 Axes>",
      "image/svg+xml": "<?xml version=\"1.0\" encoding=\"utf-8\" standalone=\"no\"?>\r\n<!DOCTYPE svg PUBLIC \"-//W3C//DTD SVG 1.1//EN\"\r\n  \"http://www.w3.org/Graphics/SVG/1.1/DTD/svg11.dtd\">\r\n<!-- Created with matplotlib (https://matplotlib.org/) -->\r\n<svg height=\"248.518125pt\" version=\"1.1\" viewBox=\"0 0 378.465625 248.518125\" width=\"378.465625pt\" xmlns=\"http://www.w3.org/2000/svg\" xmlns:xlink=\"http://www.w3.org/1999/xlink\">\r\n <defs>\r\n  <style type=\"text/css\">\r\n*{stroke-linecap:butt;stroke-linejoin:round;}\r\n  </style>\r\n </defs>\r\n <g id=\"figure_1\">\r\n  <g id=\"patch_1\">\r\n   <path d=\"M 0 248.518125 \r\nL 378.465625 248.518125 \r\nL 378.465625 0 \r\nL 0 0 \r\nz\r\n\" style=\"fill:none;\"/>\r\n  </g>\r\n  <g id=\"axes_1\">\r\n   <g id=\"patch_2\">\r\n    <path d=\"M 36.465625 224.64 \r\nL 371.265625 224.64 \r\nL 371.265625 7.2 \r\nL 36.465625 7.2 \r\nz\r\n\" style=\"fill:#ffffff;\"/>\r\n   </g>\r\n   <g id=\"PathCollection_1\">\r\n    <defs>\r\n     <path d=\"M 0 3 \r\nC 0.795609 3 1.55874 2.683901 2.12132 2.12132 \r\nC 2.683901 1.55874 3 0.795609 3 0 \r\nC 3 -0.795609 2.683901 -1.55874 2.12132 -2.12132 \r\nC 1.55874 -2.683901 0.795609 -3 0 -3 \r\nC -0.795609 -3 -1.55874 -2.683901 -2.12132 -2.12132 \r\nC -2.683901 -1.55874 -3 -0.795609 -3 0 \r\nC -3 0.795609 -2.683901 1.55874 -2.12132 2.12132 \r\nC -1.55874 2.683901 -0.795609 3 0 3 \r\nz\r\n\" id=\"m9db13703f5\" style=\"stroke:#1f77b4;\"/>\r\n    </defs>\r\n    <g clip-path=\"url(#p9586df6431)\">\r\n     <use style=\"fill:#1f77b4;stroke:#1f77b4;\" x=\"141.865625\" xlink:href=\"#m9db13703f5\" y=\"203.128556\"/>\r\n     <use style=\"fill:#1f77b4;stroke:#1f77b4;\" x=\"119.32017\" xlink:href=\"#m9db13703f5\" y=\"203.128556\"/>\r\n     <use style=\"fill:#1f77b4;stroke:#1f77b4;\" x=\"96.774716\" xlink:href=\"#m9db13703f5\" y=\"203.128556\"/>\r\n     <use style=\"fill:#1f77b4;stroke:#1f77b4;\" x=\"85.501989\" xlink:href=\"#m9db13703f5\" y=\"203.128556\"/>\r\n     <use style=\"fill:#1f77b4;stroke:#1f77b4;\" x=\"130.592898\" xlink:href=\"#m9db13703f5\" y=\"203.128556\"/>\r\n     <use style=\"fill:#1f77b4;stroke:#1f77b4;\" x=\"175.683807\" xlink:href=\"#m9db13703f5\" y=\"179.872941\"/>\r\n     <use style=\"fill:#1f77b4;stroke:#1f77b4;\" x=\"85.501989\" xlink:href=\"#m9db13703f5\" y=\"191.500749\"/>\r\n     <use style=\"fill:#1f77b4;stroke:#1f77b4;\" x=\"130.592898\" xlink:href=\"#m9db13703f5\" y=\"203.128556\"/>\r\n     <use style=\"fill:#1f77b4;stroke:#1f77b4;\" x=\"62.956534\" xlink:href=\"#m9db13703f5\" y=\"203.128556\"/>\r\n     <use style=\"fill:#1f77b4;stroke:#1f77b4;\" x=\"119.32017\" xlink:href=\"#m9db13703f5\" y=\"214.756364\"/>\r\n     <use style=\"fill:#1f77b4;stroke:#1f77b4;\" x=\"175.683807\" xlink:href=\"#m9db13703f5\" y=\"203.128556\"/>\r\n     <use style=\"fill:#1f77b4;stroke:#1f77b4;\" x=\"108.047443\" xlink:href=\"#m9db13703f5\" y=\"203.128556\"/>\r\n     <use style=\"fill:#1f77b4;stroke:#1f77b4;\" x=\"108.047443\" xlink:href=\"#m9db13703f5\" y=\"214.756364\"/>\r\n     <use style=\"fill:#1f77b4;stroke:#1f77b4;\" x=\"51.683807\" xlink:href=\"#m9db13703f5\" y=\"214.756364\"/>\r\n     <use style=\"fill:#1f77b4;stroke:#1f77b4;\" x=\"220.774716\" xlink:href=\"#m9db13703f5\" y=\"203.128556\"/>\r\n     <use style=\"fill:#1f77b4;stroke:#1f77b4;\" x=\"209.501989\" xlink:href=\"#m9db13703f5\" y=\"179.872941\"/>\r\n     <use style=\"fill:#1f77b4;stroke:#1f77b4;\" x=\"175.683807\" xlink:href=\"#m9db13703f5\" y=\"179.872941\"/>\r\n     <use style=\"fill:#1f77b4;stroke:#1f77b4;\" x=\"141.865625\" xlink:href=\"#m9db13703f5\" y=\"191.500749\"/>\r\n     <use style=\"fill:#1f77b4;stroke:#1f77b4;\" x=\"209.501989\" xlink:href=\"#m9db13703f5\" y=\"191.500749\"/>\r\n     <use style=\"fill:#1f77b4;stroke:#1f77b4;\" x=\"141.865625\" xlink:href=\"#m9db13703f5\" y=\"191.500749\"/>\r\n     <use style=\"fill:#1f77b4;stroke:#1f77b4;\" x=\"175.683807\" xlink:href=\"#m9db13703f5\" y=\"203.128556\"/>\r\n     <use style=\"fill:#1f77b4;stroke:#1f77b4;\" x=\"141.865625\" xlink:href=\"#m9db13703f5\" y=\"179.872941\"/>\r\n     <use style=\"fill:#1f77b4;stroke:#1f77b4;\" x=\"85.501989\" xlink:href=\"#m9db13703f5\" y=\"203.128556\"/>\r\n     <use style=\"fill:#1f77b4;stroke:#1f77b4;\" x=\"141.865625\" xlink:href=\"#m9db13703f5\" y=\"168.245134\"/>\r\n     <use style=\"fill:#1f77b4;stroke:#1f77b4;\" x=\"108.047443\" xlink:href=\"#m9db13703f5\" y=\"203.128556\"/>\r\n     <use style=\"fill:#1f77b4;stroke:#1f77b4;\" x=\"130.592898\" xlink:href=\"#m9db13703f5\" y=\"203.128556\"/>\r\n     <use style=\"fill:#1f77b4;stroke:#1f77b4;\" x=\"130.592898\" xlink:href=\"#m9db13703f5\" y=\"179.872941\"/>\r\n     <use style=\"fill:#1f77b4;stroke:#1f77b4;\" x=\"153.138352\" xlink:href=\"#m9db13703f5\" y=\"203.128556\"/>\r\n     <use style=\"fill:#1f77b4;stroke:#1f77b4;\" x=\"153.138352\" xlink:href=\"#m9db13703f5\" y=\"203.128556\"/>\r\n     <use style=\"fill:#1f77b4;stroke:#1f77b4;\" x=\"96.774716\" xlink:href=\"#m9db13703f5\" y=\"203.128556\"/>\r\n     <use style=\"fill:#1f77b4;stroke:#1f77b4;\" x=\"108.047443\" xlink:href=\"#m9db13703f5\" y=\"203.128556\"/>\r\n     <use style=\"fill:#1f77b4;stroke:#1f77b4;\" x=\"175.683807\" xlink:href=\"#m9db13703f5\" y=\"179.872941\"/>\r\n     <use style=\"fill:#1f77b4;stroke:#1f77b4;\" x=\"153.138352\" xlink:href=\"#m9db13703f5\" y=\"214.756364\"/>\r\n     <use style=\"fill:#1f77b4;stroke:#1f77b4;\" x=\"186.956534\" xlink:href=\"#m9db13703f5\" y=\"203.128556\"/>\r\n     <use style=\"fill:#1f77b4;stroke:#1f77b4;\" x=\"119.32017\" xlink:href=\"#m9db13703f5\" y=\"203.128556\"/>\r\n     <use style=\"fill:#1f77b4;stroke:#1f77b4;\" x=\"130.592898\" xlink:href=\"#m9db13703f5\" y=\"203.128556\"/>\r\n     <use style=\"fill:#1f77b4;stroke:#1f77b4;\" x=\"186.956534\" xlink:href=\"#m9db13703f5\" y=\"203.128556\"/>\r\n     <use style=\"fill:#1f77b4;stroke:#1f77b4;\" x=\"119.32017\" xlink:href=\"#m9db13703f5\" y=\"214.756364\"/>\r\n     <use style=\"fill:#1f77b4;stroke:#1f77b4;\" x=\"62.956534\" xlink:href=\"#m9db13703f5\" y=\"203.128556\"/>\r\n     <use style=\"fill:#1f77b4;stroke:#1f77b4;\" x=\"141.865625\" xlink:href=\"#m9db13703f5\" y=\"203.128556\"/>\r\n     <use style=\"fill:#1f77b4;stroke:#1f77b4;\" x=\"130.592898\" xlink:href=\"#m9db13703f5\" y=\"191.500749\"/>\r\n     <use style=\"fill:#1f77b4;stroke:#1f77b4;\" x=\"74.229261\" xlink:href=\"#m9db13703f5\" y=\"191.500749\"/>\r\n     <use style=\"fill:#1f77b4;stroke:#1f77b4;\" x=\"62.956534\" xlink:href=\"#m9db13703f5\" y=\"203.128556\"/>\r\n     <use style=\"fill:#1f77b4;stroke:#1f77b4;\" x=\"130.592898\" xlink:href=\"#m9db13703f5\" y=\"156.617326\"/>\r\n     <use style=\"fill:#1f77b4;stroke:#1f77b4;\" x=\"141.865625\" xlink:href=\"#m9db13703f5\" y=\"179.872941\"/>\r\n     <use style=\"fill:#1f77b4;stroke:#1f77b4;\" x=\"108.047443\" xlink:href=\"#m9db13703f5\" y=\"191.500749\"/>\r\n     <use style=\"fill:#1f77b4;stroke:#1f77b4;\" x=\"141.865625\" xlink:href=\"#m9db13703f5\" y=\"203.128556\"/>\r\n     <use style=\"fill:#1f77b4;stroke:#1f77b4;\" x=\"85.501989\" xlink:href=\"#m9db13703f5\" y=\"203.128556\"/>\r\n     <use style=\"fill:#1f77b4;stroke:#1f77b4;\" x=\"164.41108\" xlink:href=\"#m9db13703f5\" y=\"203.128556\"/>\r\n     <use style=\"fill:#1f77b4;stroke:#1f77b4;\" x=\"130.592898\" xlink:href=\"#m9db13703f5\" y=\"203.128556\"/>\r\n    </g>\r\n   </g>\r\n   <g id=\"PathCollection_2\">\r\n    <defs>\r\n     <path d=\"M 0 3 \r\nC 0.795609 3 1.55874 2.683901 2.12132 2.12132 \r\nC 2.683901 1.55874 3 0.795609 3 0 \r\nC 3 -0.795609 2.683901 -1.55874 2.12132 -2.12132 \r\nC 1.55874 -2.683901 0.795609 -3 0 -3 \r\nC -0.795609 -3 -1.55874 -2.683901 -2.12132 -2.12132 \r\nC -2.683901 -1.55874 -3 -0.795609 -3 0 \r\nC -3 0.795609 -2.683901 1.55874 -2.12132 2.12132 \r\nC -1.55874 2.683901 -0.795609 3 0 3 \r\nz\r\n\" id=\"md408c1f48b\" style=\"stroke:#ff7f0e;\"/>\r\n    </defs>\r\n    <g clip-path=\"url(#p9586df6431)\">\r\n     <use style=\"fill:#ff7f0e;stroke:#ff7f0e;\" x=\"356.047443\" xlink:href=\"#md408c1f48b\" y=\"63.594866\"/>\r\n     <use style=\"fill:#ff7f0e;stroke:#ff7f0e;\" x=\"288.41108\" xlink:href=\"#md408c1f48b\" y=\"51.967059\"/>\r\n     <use style=\"fill:#ff7f0e;stroke:#ff7f0e;\" x=\"344.774716\" xlink:href=\"#md408c1f48b\" y=\"51.967059\"/>\r\n     <use style=\"fill:#ff7f0e;stroke:#ff7f0e;\" x=\"186.956534\" xlink:href=\"#md408c1f48b\" y=\"75.222674\"/>\r\n     <use style=\"fill:#ff7f0e;stroke:#ff7f0e;\" x=\"299.683807\" xlink:href=\"#md408c1f48b\" y=\"51.967059\"/>\r\n     <use style=\"fill:#ff7f0e;stroke:#ff7f0e;\" x=\"209.501989\" xlink:href=\"#md408c1f48b\" y=\"75.222674\"/>\r\n     <use style=\"fill:#ff7f0e;stroke:#ff7f0e;\" x=\"277.138352\" xlink:href=\"#md408c1f48b\" y=\"40.339251\"/>\r\n     <use style=\"fill:#ff7f0e;stroke:#ff7f0e;\" x=\"119.32017\" xlink:href=\"#md408c1f48b\" y=\"110.106096\"/>\r\n     <use style=\"fill:#ff7f0e;stroke:#ff7f0e;\" x=\"310.956534\" xlink:href=\"#md408c1f48b\" y=\"75.222674\"/>\r\n     <use style=\"fill:#ff7f0e;stroke:#ff7f0e;\" x=\"153.138352\" xlink:href=\"#md408c1f48b\" y=\"63.594866\"/>\r\n     <use style=\"fill:#ff7f0e;stroke:#ff7f0e;\" x=\"130.592898\" xlink:href=\"#md408c1f48b\" y=\"110.106096\"/>\r\n     <use style=\"fill:#ff7f0e;stroke:#ff7f0e;\" x=\"232.047443\" xlink:href=\"#md408c1f48b\" y=\"51.967059\"/>\r\n     <use style=\"fill:#ff7f0e;stroke:#ff7f0e;\" x=\"243.32017\" xlink:href=\"#md408c1f48b\" y=\"110.106096\"/>\r\n     <use style=\"fill:#ff7f0e;stroke:#ff7f0e;\" x=\"254.592898\" xlink:href=\"#md408c1f48b\" y=\"63.594866\"/>\r\n     <use style=\"fill:#ff7f0e;stroke:#ff7f0e;\" x=\"198.229261\" xlink:href=\"#md408c1f48b\" y=\"75.222674\"/>\r\n     <use style=\"fill:#ff7f0e;stroke:#ff7f0e;\" x=\"322.229261\" xlink:href=\"#md408c1f48b\" y=\"63.594866\"/>\r\n     <use style=\"fill:#ff7f0e;stroke:#ff7f0e;\" x=\"198.229261\" xlink:href=\"#md408c1f48b\" y=\"51.967059\"/>\r\n     <use style=\"fill:#ff7f0e;stroke:#ff7f0e;\" x=\"220.774716\" xlink:href=\"#md408c1f48b\" y=\"110.106096\"/>\r\n     <use style=\"fill:#ff7f0e;stroke:#ff7f0e;\" x=\"265.865625\" xlink:href=\"#md408c1f48b\" y=\"51.967059\"/>\r\n     <use style=\"fill:#ff7f0e;stroke:#ff7f0e;\" x=\"198.229261\" xlink:href=\"#md408c1f48b\" y=\"98.478289\"/>\r\n     <use style=\"fill:#ff7f0e;stroke:#ff7f0e;\" x=\"232.047443\" xlink:href=\"#md408c1f48b\" y=\"17.083636\"/>\r\n     <use style=\"fill:#ff7f0e;stroke:#ff7f0e;\" x=\"254.592898\" xlink:href=\"#md408c1f48b\" y=\"75.222674\"/>\r\n     <use style=\"fill:#ff7f0e;stroke:#ff7f0e;\" x=\"277.138352\" xlink:href=\"#md408c1f48b\" y=\"51.967059\"/>\r\n     <use style=\"fill:#ff7f0e;stroke:#ff7f0e;\" x=\"254.592898\" xlink:href=\"#md408c1f48b\" y=\"86.850481\"/>\r\n     <use style=\"fill:#ff7f0e;stroke:#ff7f0e;\" x=\"288.41108\" xlink:href=\"#md408c1f48b\" y=\"75.222674\"/>\r\n     <use style=\"fill:#ff7f0e;stroke:#ff7f0e;\" x=\"310.956534\" xlink:href=\"#md408c1f48b\" y=\"63.594866\"/>\r\n     <use style=\"fill:#ff7f0e;stroke:#ff7f0e;\" x=\"333.501989\" xlink:href=\"#md408c1f48b\" y=\"63.594866\"/>\r\n     <use style=\"fill:#ff7f0e;stroke:#ff7f0e;\" x=\"322.229261\" xlink:href=\"#md408c1f48b\" y=\"28.711444\"/>\r\n     <use style=\"fill:#ff7f0e;stroke:#ff7f0e;\" x=\"243.32017\" xlink:href=\"#md408c1f48b\" y=\"51.967059\"/>\r\n     <use style=\"fill:#ff7f0e;stroke:#ff7f0e;\" x=\"209.501989\" xlink:href=\"#md408c1f48b\" y=\"110.106096\"/>\r\n     <use style=\"fill:#ff7f0e;stroke:#ff7f0e;\" x=\"186.956534\" xlink:href=\"#md408c1f48b\" y=\"98.478289\"/>\r\n     <use style=\"fill:#ff7f0e;stroke:#ff7f0e;\" x=\"186.956534\" xlink:href=\"#md408c1f48b\" y=\"110.106096\"/>\r\n     <use style=\"fill:#ff7f0e;stroke:#ff7f0e;\" x=\"220.774716\" xlink:href=\"#md408c1f48b\" y=\"86.850481\"/>\r\n     <use style=\"fill:#ff7f0e;stroke:#ff7f0e;\" x=\"243.32017\" xlink:href=\"#md408c1f48b\" y=\"40.339251\"/>\r\n     <use style=\"fill:#ff7f0e;stroke:#ff7f0e;\" x=\"175.683807\" xlink:href=\"#md408c1f48b\" y=\"51.967059\"/>\r\n     <use style=\"fill:#ff7f0e;stroke:#ff7f0e;\" x=\"243.32017\" xlink:href=\"#md408c1f48b\" y=\"40.339251\"/>\r\n     <use style=\"fill:#ff7f0e;stroke:#ff7f0e;\" x=\"322.229261\" xlink:href=\"#md408c1f48b\" y=\"51.967059\"/>\r\n     <use style=\"fill:#ff7f0e;stroke:#ff7f0e;\" x=\"277.138352\" xlink:href=\"#md408c1f48b\" y=\"75.222674\"/>\r\n     <use style=\"fill:#ff7f0e;stroke:#ff7f0e;\" x=\"198.229261\" xlink:href=\"#md408c1f48b\" y=\"75.222674\"/>\r\n     <use style=\"fill:#ff7f0e;stroke:#ff7f0e;\" x=\"186.956534\" xlink:href=\"#md408c1f48b\" y=\"75.222674\"/>\r\n     <use style=\"fill:#ff7f0e;stroke:#ff7f0e;\" x=\"186.956534\" xlink:href=\"#md408c1f48b\" y=\"86.850481\"/>\r\n     <use style=\"fill:#ff7f0e;stroke:#ff7f0e;\" x=\"254.592898\" xlink:href=\"#md408c1f48b\" y=\"63.594866\"/>\r\n     <use style=\"fill:#ff7f0e;stroke:#ff7f0e;\" x=\"220.774716\" xlink:href=\"#md408c1f48b\" y=\"86.850481\"/>\r\n     <use style=\"fill:#ff7f0e;stroke:#ff7f0e;\" x=\"130.592898\" xlink:href=\"#md408c1f48b\" y=\"110.106096\"/>\r\n     <use style=\"fill:#ff7f0e;stroke:#ff7f0e;\" x=\"198.229261\" xlink:href=\"#md408c1f48b\" y=\"75.222674\"/>\r\n     <use style=\"fill:#ff7f0e;stroke:#ff7f0e;\" x=\"209.501989\" xlink:href=\"#md408c1f48b\" y=\"86.850481\"/>\r\n     <use style=\"fill:#ff7f0e;stroke:#ff7f0e;\" x=\"209.501989\" xlink:href=\"#md408c1f48b\" y=\"75.222674\"/>\r\n     <use style=\"fill:#ff7f0e;stroke:#ff7f0e;\" x=\"265.865625\" xlink:href=\"#md408c1f48b\" y=\"75.222674\"/>\r\n     <use style=\"fill:#ff7f0e;stroke:#ff7f0e;\" x=\"141.865625\" xlink:href=\"#md408c1f48b\" y=\"98.478289\"/>\r\n     <use style=\"fill:#ff7f0e;stroke:#ff7f0e;\" x=\"209.501989\" xlink:href=\"#md408c1f48b\" y=\"75.222674\"/>\r\n    </g>\r\n   </g>\r\n   <g id=\"matplotlib.axis_1\">\r\n    <g id=\"xtick_1\">\r\n     <g id=\"line2d_1\">\r\n      <defs>\r\n       <path d=\"M 0 0 \r\nL 0 3.5 \r\n\" id=\"md9915c3663\" style=\"stroke:#000000;stroke-width:0.8;\"/>\r\n      </defs>\r\n      <g>\r\n       <use style=\"stroke:#000000;stroke-width:0.8;\" x=\"74.229261\" xlink:href=\"#md9915c3663\" y=\"224.64\"/>\r\n      </g>\r\n     </g>\r\n     <g id=\"text_1\">\r\n      <!-- 4.5 -->\r\n      <defs>\r\n       <path d=\"M 37.796875 64.3125 \r\nL 12.890625 25.390625 \r\nL 37.796875 25.390625 \r\nz\r\nM 35.203125 72.90625 \r\nL 47.609375 72.90625 \r\nL 47.609375 25.390625 \r\nL 58.015625 25.390625 \r\nL 58.015625 17.1875 \r\nL 47.609375 17.1875 \r\nL 47.609375 0 \r\nL 37.796875 0 \r\nL 37.796875 17.1875 \r\nL 4.890625 17.1875 \r\nL 4.890625 26.703125 \r\nz\r\n\" id=\"DejaVuSans-52\"/>\r\n       <path d=\"M 10.6875 12.40625 \r\nL 21 12.40625 \r\nL 21 0 \r\nL 10.6875 0 \r\nz\r\n\" id=\"DejaVuSans-46\"/>\r\n       <path d=\"M 10.796875 72.90625 \r\nL 49.515625 72.90625 \r\nL 49.515625 64.59375 \r\nL 19.828125 64.59375 \r\nL 19.828125 46.734375 \r\nQ 21.96875 47.46875 24.109375 47.828125 \r\nQ 26.265625 48.1875 28.421875 48.1875 \r\nQ 40.625 48.1875 47.75 41.5 \r\nQ 54.890625 34.8125 54.890625 23.390625 \r\nQ 54.890625 11.625 47.5625 5.09375 \r\nQ 40.234375 -1.421875 26.90625 -1.421875 \r\nQ 22.3125 -1.421875 17.546875 -0.640625 \r\nQ 12.796875 0.140625 7.71875 1.703125 \r\nL 7.71875 11.625 \r\nQ 12.109375 9.234375 16.796875 8.0625 \r\nQ 21.484375 6.890625 26.703125 6.890625 \r\nQ 35.15625 6.890625 40.078125 11.328125 \r\nQ 45.015625 15.765625 45.015625 23.390625 \r\nQ 45.015625 31 40.078125 35.4375 \r\nQ 35.15625 39.890625 26.703125 39.890625 \r\nQ 22.75 39.890625 18.8125 39.015625 \r\nQ 14.890625 38.140625 10.796875 36.28125 \r\nz\r\n\" id=\"DejaVuSans-53\"/>\r\n      </defs>\r\n      <g transform=\"translate(66.277699 239.238437)scale(0.1 -0.1)\">\r\n       <use xlink:href=\"#DejaVuSans-52\"/>\r\n       <use x=\"63.623047\" xlink:href=\"#DejaVuSans-46\"/>\r\n       <use x=\"95.410156\" xlink:href=\"#DejaVuSans-53\"/>\r\n      </g>\r\n     </g>\r\n    </g>\r\n    <g id=\"xtick_2\">\r\n     <g id=\"line2d_2\">\r\n      <g>\r\n       <use style=\"stroke:#000000;stroke-width:0.8;\" x=\"130.592898\" xlink:href=\"#md9915c3663\" y=\"224.64\"/>\r\n      </g>\r\n     </g>\r\n     <g id=\"text_2\">\r\n      <!-- 5.0 -->\r\n      <defs>\r\n       <path d=\"M 31.78125 66.40625 \r\nQ 24.171875 66.40625 20.328125 58.90625 \r\nQ 16.5 51.421875 16.5 36.375 \r\nQ 16.5 21.390625 20.328125 13.890625 \r\nQ 24.171875 6.390625 31.78125 6.390625 \r\nQ 39.453125 6.390625 43.28125 13.890625 \r\nQ 47.125 21.390625 47.125 36.375 \r\nQ 47.125 51.421875 43.28125 58.90625 \r\nQ 39.453125 66.40625 31.78125 66.40625 \r\nz\r\nM 31.78125 74.21875 \r\nQ 44.046875 74.21875 50.515625 64.515625 \r\nQ 56.984375 54.828125 56.984375 36.375 \r\nQ 56.984375 17.96875 50.515625 8.265625 \r\nQ 44.046875 -1.421875 31.78125 -1.421875 \r\nQ 19.53125 -1.421875 13.0625 8.265625 \r\nQ 6.59375 17.96875 6.59375 36.375 \r\nQ 6.59375 54.828125 13.0625 64.515625 \r\nQ 19.53125 74.21875 31.78125 74.21875 \r\nz\r\n\" id=\"DejaVuSans-48\"/>\r\n      </defs>\r\n      <g transform=\"translate(122.641335 239.238437)scale(0.1 -0.1)\">\r\n       <use xlink:href=\"#DejaVuSans-53\"/>\r\n       <use x=\"63.623047\" xlink:href=\"#DejaVuSans-46\"/>\r\n       <use x=\"95.410156\" xlink:href=\"#DejaVuSans-48\"/>\r\n      </g>\r\n     </g>\r\n    </g>\r\n    <g id=\"xtick_3\">\r\n     <g id=\"line2d_3\">\r\n      <g>\r\n       <use style=\"stroke:#000000;stroke-width:0.8;\" x=\"186.956534\" xlink:href=\"#md9915c3663\" y=\"224.64\"/>\r\n      </g>\r\n     </g>\r\n     <g id=\"text_3\">\r\n      <!-- 5.5 -->\r\n      <g transform=\"translate(179.004972 239.238437)scale(0.1 -0.1)\">\r\n       <use xlink:href=\"#DejaVuSans-53\"/>\r\n       <use x=\"63.623047\" xlink:href=\"#DejaVuSans-46\"/>\r\n       <use x=\"95.410156\" xlink:href=\"#DejaVuSans-53\"/>\r\n      </g>\r\n     </g>\r\n    </g>\r\n    <g id=\"xtick_4\">\r\n     <g id=\"line2d_4\">\r\n      <g>\r\n       <use style=\"stroke:#000000;stroke-width:0.8;\" x=\"243.32017\" xlink:href=\"#md9915c3663\" y=\"224.64\"/>\r\n      </g>\r\n     </g>\r\n     <g id=\"text_4\">\r\n      <!-- 6.0 -->\r\n      <defs>\r\n       <path d=\"M 33.015625 40.375 \r\nQ 26.375 40.375 22.484375 35.828125 \r\nQ 18.609375 31.296875 18.609375 23.390625 \r\nQ 18.609375 15.53125 22.484375 10.953125 \r\nQ 26.375 6.390625 33.015625 6.390625 \r\nQ 39.65625 6.390625 43.53125 10.953125 \r\nQ 47.40625 15.53125 47.40625 23.390625 \r\nQ 47.40625 31.296875 43.53125 35.828125 \r\nQ 39.65625 40.375 33.015625 40.375 \r\nz\r\nM 52.59375 71.296875 \r\nL 52.59375 62.3125 \r\nQ 48.875 64.0625 45.09375 64.984375 \r\nQ 41.3125 65.921875 37.59375 65.921875 \r\nQ 27.828125 65.921875 22.671875 59.328125 \r\nQ 17.53125 52.734375 16.796875 39.40625 \r\nQ 19.671875 43.65625 24.015625 45.921875 \r\nQ 28.375 48.1875 33.59375 48.1875 \r\nQ 44.578125 48.1875 50.953125 41.515625 \r\nQ 57.328125 34.859375 57.328125 23.390625 \r\nQ 57.328125 12.15625 50.6875 5.359375 \r\nQ 44.046875 -1.421875 33.015625 -1.421875 \r\nQ 20.359375 -1.421875 13.671875 8.265625 \r\nQ 6.984375 17.96875 6.984375 36.375 \r\nQ 6.984375 53.65625 15.1875 63.9375 \r\nQ 23.390625 74.21875 37.203125 74.21875 \r\nQ 40.921875 74.21875 44.703125 73.484375 \r\nQ 48.484375 72.75 52.59375 71.296875 \r\nz\r\n\" id=\"DejaVuSans-54\"/>\r\n      </defs>\r\n      <g transform=\"translate(235.368608 239.238437)scale(0.1 -0.1)\">\r\n       <use xlink:href=\"#DejaVuSans-54\"/>\r\n       <use x=\"63.623047\" xlink:href=\"#DejaVuSans-46\"/>\r\n       <use x=\"95.410156\" xlink:href=\"#DejaVuSans-48\"/>\r\n      </g>\r\n     </g>\r\n    </g>\r\n    <g id=\"xtick_5\">\r\n     <g id=\"line2d_5\">\r\n      <g>\r\n       <use style=\"stroke:#000000;stroke-width:0.8;\" x=\"299.683807\" xlink:href=\"#md9915c3663\" y=\"224.64\"/>\r\n      </g>\r\n     </g>\r\n     <g id=\"text_5\">\r\n      <!-- 6.5 -->\r\n      <g transform=\"translate(291.732244 239.238437)scale(0.1 -0.1)\">\r\n       <use xlink:href=\"#DejaVuSans-54\"/>\r\n       <use x=\"63.623047\" xlink:href=\"#DejaVuSans-46\"/>\r\n       <use x=\"95.410156\" xlink:href=\"#DejaVuSans-53\"/>\r\n      </g>\r\n     </g>\r\n    </g>\r\n    <g id=\"xtick_6\">\r\n     <g id=\"line2d_6\">\r\n      <g>\r\n       <use style=\"stroke:#000000;stroke-width:0.8;\" x=\"356.047443\" xlink:href=\"#md9915c3663\" y=\"224.64\"/>\r\n      </g>\r\n     </g>\r\n     <g id=\"text_6\">\r\n      <!-- 7.0 -->\r\n      <defs>\r\n       <path d=\"M 8.203125 72.90625 \r\nL 55.078125 72.90625 \r\nL 55.078125 68.703125 \r\nL 28.609375 0 \r\nL 18.3125 0 \r\nL 43.21875 64.59375 \r\nL 8.203125 64.59375 \r\nz\r\n\" id=\"DejaVuSans-55\"/>\r\n      </defs>\r\n      <g transform=\"translate(348.095881 239.238437)scale(0.1 -0.1)\">\r\n       <use xlink:href=\"#DejaVuSans-55\"/>\r\n       <use x=\"63.623047\" xlink:href=\"#DejaVuSans-46\"/>\r\n       <use x=\"95.410156\" xlink:href=\"#DejaVuSans-48\"/>\r\n      </g>\r\n     </g>\r\n    </g>\r\n   </g>\r\n   <g id=\"matplotlib.axis_2\">\r\n    <g id=\"ytick_1\">\r\n     <g id=\"line2d_7\">\r\n      <defs>\r\n       <path d=\"M 0 0 \r\nL -3.5 0 \r\n\" id=\"m7467ec75d1\" style=\"stroke:#000000;stroke-width:0.8;\"/>\r\n      </defs>\r\n      <g>\r\n       <use style=\"stroke:#000000;stroke-width:0.8;\" x=\"36.465625\" xlink:href=\"#m7467ec75d1\" y=\"197.314652\"/>\r\n      </g>\r\n     </g>\r\n     <g id=\"text_7\">\r\n      <!-- 0.25 -->\r\n      <defs>\r\n       <path d=\"M 19.1875 8.296875 \r\nL 53.609375 8.296875 \r\nL 53.609375 0 \r\nL 7.328125 0 \r\nL 7.328125 8.296875 \r\nQ 12.9375 14.109375 22.625 23.890625 \r\nQ 32.328125 33.6875 34.8125 36.53125 \r\nQ 39.546875 41.84375 41.421875 45.53125 \r\nQ 43.3125 49.21875 43.3125 52.78125 \r\nQ 43.3125 58.59375 39.234375 62.25 \r\nQ 35.15625 65.921875 28.609375 65.921875 \r\nQ 23.96875 65.921875 18.8125 64.3125 \r\nQ 13.671875 62.703125 7.8125 59.421875 \r\nL 7.8125 69.390625 \r\nQ 13.765625 71.78125 18.9375 73 \r\nQ 24.125 74.21875 28.421875 74.21875 \r\nQ 39.75 74.21875 46.484375 68.546875 \r\nQ 53.21875 62.890625 53.21875 53.421875 \r\nQ 53.21875 48.921875 51.53125 44.890625 \r\nQ 49.859375 40.875 45.40625 35.40625 \r\nQ 44.1875 33.984375 37.640625 27.21875 \r\nQ 31.109375 20.453125 19.1875 8.296875 \r\nz\r\n\" id=\"DejaVuSans-50\"/>\r\n      </defs>\r\n      <g transform=\"translate(7.2 201.113871)scale(0.1 -0.1)\">\r\n       <use xlink:href=\"#DejaVuSans-48\"/>\r\n       <use x=\"63.623047\" xlink:href=\"#DejaVuSans-46\"/>\r\n       <use x=\"95.410156\" xlink:href=\"#DejaVuSans-50\"/>\r\n       <use x=\"159.033203\" xlink:href=\"#DejaVuSans-53\"/>\r\n      </g>\r\n     </g>\r\n    </g>\r\n    <g id=\"ytick_2\">\r\n     <g id=\"line2d_8\">\r\n      <g>\r\n       <use style=\"stroke:#000000;stroke-width:0.8;\" x=\"36.465625\" xlink:href=\"#m7467ec75d1\" y=\"168.245134\"/>\r\n      </g>\r\n     </g>\r\n     <g id=\"text_8\">\r\n      <!-- 0.50 -->\r\n      <g transform=\"translate(7.2 172.044352)scale(0.1 -0.1)\">\r\n       <use xlink:href=\"#DejaVuSans-48\"/>\r\n       <use x=\"63.623047\" xlink:href=\"#DejaVuSans-46\"/>\r\n       <use x=\"95.410156\" xlink:href=\"#DejaVuSans-53\"/>\r\n       <use x=\"159.033203\" xlink:href=\"#DejaVuSans-48\"/>\r\n      </g>\r\n     </g>\r\n    </g>\r\n    <g id=\"ytick_3\">\r\n     <g id=\"line2d_9\">\r\n      <g>\r\n       <use style=\"stroke:#000000;stroke-width:0.8;\" x=\"36.465625\" xlink:href=\"#m7467ec75d1\" y=\"139.175615\"/>\r\n      </g>\r\n     </g>\r\n     <g id=\"text_9\">\r\n      <!-- 0.75 -->\r\n      <g transform=\"translate(7.2 142.974834)scale(0.1 -0.1)\">\r\n       <use xlink:href=\"#DejaVuSans-48\"/>\r\n       <use x=\"63.623047\" xlink:href=\"#DejaVuSans-46\"/>\r\n       <use x=\"95.410156\" xlink:href=\"#DejaVuSans-55\"/>\r\n       <use x=\"159.033203\" xlink:href=\"#DejaVuSans-53\"/>\r\n      </g>\r\n     </g>\r\n    </g>\r\n    <g id=\"ytick_4\">\r\n     <g id=\"line2d_10\">\r\n      <g>\r\n       <use style=\"stroke:#000000;stroke-width:0.8;\" x=\"36.465625\" xlink:href=\"#m7467ec75d1\" y=\"110.106096\"/>\r\n      </g>\r\n     </g>\r\n     <g id=\"text_10\">\r\n      <!-- 1.00 -->\r\n      <defs>\r\n       <path d=\"M 12.40625 8.296875 \r\nL 28.515625 8.296875 \r\nL 28.515625 63.921875 \r\nL 10.984375 60.40625 \r\nL 10.984375 69.390625 \r\nL 28.421875 72.90625 \r\nL 38.28125 72.90625 \r\nL 38.28125 8.296875 \r\nL 54.390625 8.296875 \r\nL 54.390625 0 \r\nL 12.40625 0 \r\nz\r\n\" id=\"DejaVuSans-49\"/>\r\n      </defs>\r\n      <g transform=\"translate(7.2 113.905315)scale(0.1 -0.1)\">\r\n       <use xlink:href=\"#DejaVuSans-49\"/>\r\n       <use x=\"63.623047\" xlink:href=\"#DejaVuSans-46\"/>\r\n       <use x=\"95.410156\" xlink:href=\"#DejaVuSans-48\"/>\r\n       <use x=\"159.033203\" xlink:href=\"#DejaVuSans-48\"/>\r\n      </g>\r\n     </g>\r\n    </g>\r\n    <g id=\"ytick_5\">\r\n     <g id=\"line2d_11\">\r\n      <g>\r\n       <use style=\"stroke:#000000;stroke-width:0.8;\" x=\"36.465625\" xlink:href=\"#m7467ec75d1\" y=\"81.036578\"/>\r\n      </g>\r\n     </g>\r\n     <g id=\"text_11\">\r\n      <!-- 1.25 -->\r\n      <g transform=\"translate(7.2 84.835796)scale(0.1 -0.1)\">\r\n       <use xlink:href=\"#DejaVuSans-49\"/>\r\n       <use x=\"63.623047\" xlink:href=\"#DejaVuSans-46\"/>\r\n       <use x=\"95.410156\" xlink:href=\"#DejaVuSans-50\"/>\r\n       <use x=\"159.033203\" xlink:href=\"#DejaVuSans-53\"/>\r\n      </g>\r\n     </g>\r\n    </g>\r\n    <g id=\"ytick_6\">\r\n     <g id=\"line2d_12\">\r\n      <g>\r\n       <use style=\"stroke:#000000;stroke-width:0.8;\" x=\"36.465625\" xlink:href=\"#m7467ec75d1\" y=\"51.967059\"/>\r\n      </g>\r\n     </g>\r\n     <g id=\"text_12\">\r\n      <!-- 1.50 -->\r\n      <g transform=\"translate(7.2 55.766278)scale(0.1 -0.1)\">\r\n       <use xlink:href=\"#DejaVuSans-49\"/>\r\n       <use x=\"63.623047\" xlink:href=\"#DejaVuSans-46\"/>\r\n       <use x=\"95.410156\" xlink:href=\"#DejaVuSans-53\"/>\r\n       <use x=\"159.033203\" xlink:href=\"#DejaVuSans-48\"/>\r\n      </g>\r\n     </g>\r\n    </g>\r\n    <g id=\"ytick_7\">\r\n     <g id=\"line2d_13\">\r\n      <g>\r\n       <use style=\"stroke:#000000;stroke-width:0.8;\" x=\"36.465625\" xlink:href=\"#m7467ec75d1\" y=\"22.89754\"/>\r\n      </g>\r\n     </g>\r\n     <g id=\"text_13\">\r\n      <!-- 1.75 -->\r\n      <g transform=\"translate(7.2 26.696759)scale(0.1 -0.1)\">\r\n       <use xlink:href=\"#DejaVuSans-49\"/>\r\n       <use x=\"63.623047\" xlink:href=\"#DejaVuSans-46\"/>\r\n       <use x=\"95.410156\" xlink:href=\"#DejaVuSans-55\"/>\r\n       <use x=\"159.033203\" xlink:href=\"#DejaVuSans-53\"/>\r\n      </g>\r\n     </g>\r\n    </g>\r\n   </g>\r\n   <g id=\"patch_3\">\r\n    <path d=\"M 36.465625 224.64 \r\nL 36.465625 7.2 \r\n\" style=\"fill:none;stroke:#000000;stroke-linecap:square;stroke-linejoin:miter;stroke-width:0.8;\"/>\r\n   </g>\r\n   <g id=\"patch_4\">\r\n    <path d=\"M 371.265625 224.64 \r\nL 371.265625 7.2 \r\n\" style=\"fill:none;stroke:#000000;stroke-linecap:square;stroke-linejoin:miter;stroke-width:0.8;\"/>\r\n   </g>\r\n   <g id=\"patch_5\">\r\n    <path d=\"M 36.465625 224.64 \r\nL 371.265625 224.64 \r\n\" style=\"fill:none;stroke:#000000;stroke-linecap:square;stroke-linejoin:miter;stroke-width:0.8;\"/>\r\n   </g>\r\n   <g id=\"patch_6\">\r\n    <path d=\"M 36.465625 7.2 \r\nL 371.265625 7.2 \r\n\" style=\"fill:none;stroke:#000000;stroke-linecap:square;stroke-linejoin:miter;stroke-width:0.8;\"/>\r\n   </g>\r\n   <g id=\"legend_1\">\r\n    <g id=\"patch_7\">\r\n     <path d=\"M 325.903125 44.55625 \r\nL 364.265625 44.55625 \r\nQ 366.265625 44.55625 366.265625 42.55625 \r\nL 366.265625 14.2 \r\nQ 366.265625 12.2 364.265625 12.2 \r\nL 325.903125 12.2 \r\nQ 323.903125 12.2 323.903125 14.2 \r\nL 323.903125 42.55625 \r\nQ 323.903125 44.55625 325.903125 44.55625 \r\nz\r\n\" style=\"fill:#ffffff;opacity:0.8;stroke:#cccccc;stroke-linejoin:miter;\"/>\r\n    </g>\r\n    <g id=\"PathCollection_3\">\r\n     <g>\r\n      <use style=\"fill:#1f77b4;stroke:#1f77b4;\" x=\"337.903125\" xlink:href=\"#m9db13703f5\" y=\"21.173437\"/>\r\n     </g>\r\n    </g>\r\n    <g id=\"text_14\">\r\n     <!-- 0 -->\r\n     <g transform=\"translate(355.903125 23.798437)scale(0.1 -0.1)\">\r\n      <use xlink:href=\"#DejaVuSans-48\"/>\r\n     </g>\r\n    </g>\r\n    <g id=\"PathCollection_4\">\r\n     <g>\r\n      <use style=\"fill:#ff7f0e;stroke:#ff7f0e;\" x=\"337.903125\" xlink:href=\"#md408c1f48b\" y=\"35.851562\"/>\r\n     </g>\r\n    </g>\r\n    <g id=\"text_15\">\r\n     <!-- 1 -->\r\n     <g transform=\"translate(355.903125 38.476562)scale(0.1 -0.1)\">\r\n      <use xlink:href=\"#DejaVuSans-49\"/>\r\n     </g>\r\n    </g>\r\n   </g>\r\n  </g>\r\n </g>\r\n <defs>\r\n  <clipPath id=\"p9586df6431\">\r\n   <rect height=\"217.44\" width=\"334.8\" x=\"36.465625\" y=\"7.2\"/>\r\n  </clipPath>\r\n </defs>\r\n</svg>\r\n",
      "image/png": "[encoded data removed]"
     },
     "metadata": {
      "needs_background": "light"
     }
    }
   ],
   "source": [
    "plt.scatter(X[:50, 0], X[:50, 1], label='0')\n",
    "plt.scatter(X[50:, 0], X[50:, 1], label='1')\n",
    "plt.legend()"
   ]
  },
  {
   "cell_type": "code",
   "execution_count": 132,
   "metadata": {},
   "outputs": [
    {
     "output_type": "stream",
     "name": "stdout",
     "text": [
      "True\n"
     ]
    }
   ],
   "source": [
    "print (1 < 2 < 3)"
   ]
  },
  {
   "cell_type": "code",
   "execution_count": 133,
   "metadata": {},
   "outputs": [],
   "source": [
    "class SVM:\n",
    "    def __init__(self, max_iter=100, kernel='linear'):\n",
    "        self.max_iter = max_iter\n",
    "        self._kernel = kernel\n",
    "    def init_args(self, features, labels):\n",
    "        self.m, self.n = features.shape\n",
    "        self.X = features\n",
    "        self.Y = labels\n",
    "        self.b = 0.0\n",
    "\n",
    "        self.alpha = np.ones(self.m)\n",
    "        self.E = [self._E(i) for i in range(self.m)]\n",
    "        self.C = 1.0\n",
    "    def _g(self, i):\n",
    "        r = self.b\n",
    "        for j in range(self.m):\n",
    "            r += self.alpha[j]*self.Y[j] * self.kernel(self.X[i], self.X[j])\n",
    "        return r\n",
    "    def kernel(self, x1, x2):\n",
    "        if self._kernel == 'linear':\n",
    "            return np.dot(x1, x2)\n",
    "        elif self._kernel == 'poly':\n",
    "            return (np.dot(x1, x2) + 1)**2\n",
    "        return 0\n",
    "    def _KKT(self, i):\n",
    "        y_g = self._g(i) * self.Y[i]\n",
    "        if self.alpha[i] == 0:\n",
    "            return y_g >= 1\n",
    "        elif self.alpha[i] >0 and self.alpha[i] < self.C:\n",
    "            return y_g == 1\n",
    "        else:\n",
    "            return y_g <= 1\n",
    "    def _E(self, i):\n",
    "        return self._g(i) - self.Y[i]\n",
    "    \n",
    "    def _init_alpha(self):\n",
    "        index_list = [i for i in range(self.m) if 0 < self.alpha[i] < self.C]\n",
    "        no_satisfy_list = [i for i in range(self.m) if i not in index_list]\n",
    "        index_list.extend(no_satisfy_list)\n",
    "\n",
    "        for i in index_list:\n",
    "            if self._KKT(i):\n",
    "                continue\n",
    "            E1 = self.E[i]\n",
    "            if E1 >= 0:\n",
    "                j = min([t for t in range(self.m) if t is not i], key=lambda x :self.E[x])\n",
    "            else:\n",
    "                j = max([t for t in range(self.m) if t is not i], key=lambda x :self.E[x])\n",
    "            return i, j\n",
    "    def _cut(self, _alpha_unc, L, H):\n",
    "        if _alpha_unc > H:\n",
    "            return H\n",
    "        elif L <= _alpha_unc <= H:\n",
    "            return _alpha_unc\n",
    "        else:\n",
    "            return L\n",
    "\n",
    "    def _compute_bound(self, i1, i2):\n",
    "        a_1 = self.alpha[i1]\n",
    "        a_2 = self.alpha[i2]\n",
    "        y_1 = self.Y[i1]\n",
    "        y_2 = self.Y[i2]\n",
    "        return (max(0, a_2 - a_1), min(self.C, self.C + a_2 - a_1)) if y_1 != y_2 else \\\n",
    "                (max(0, a_2 + a_1 - self.C), min(self.C, a_2 + a_1))\n",
    "\n",
    "    def _compute_new_unc_alpha2(self, i1, i2, E1, E2, K11, K12, K22):\n",
    "        alpha_new_unc2 = self.alpha[i2] + self.Y[i2] * (E1 - E2) / (K11 + K22 - 2*K12)\n",
    "        return alpha_new_unc2\n",
    "\n",
    "    def fit(self, features, labels):\n",
    "        self.init_args(features, labels)\n",
    "\n",
    "        for t in range(self.max_iter):\n",
    "            i1, i2 = self._init_alpha()\n",
    "            \n",
    "            L, H = self._compute_bound(i1, i2)\n",
    "            \n",
    "            E1, E2 = self.E[i1], self.E[i2]\n",
    "\n",
    "            K11 = self.kernel(self.X[i1], self.X[i1])\n",
    "            K12 = self.kernel(self.X[i1], self.X[i2])\n",
    "            K22 = self.kernel(self.X[i2], self.X[i2])\n",
    "\n",
    "            y1, y2 = self.Y[i1], self.Y[i2]\n",
    "\n",
    "            alpha_old_1, alpha_old_2 = self.alpha[i1], self.alpha[i2]\n",
    "\n",
    "            alpha_new_unc2 = self._compute_new_unc_alpha2(i1, i2, E1, E2, K11, K12, K22)\n",
    "\n",
    "            alpha_new_2 = self._cut(alpha_new_unc2, L, H)\n",
    "            \n",
    "            alpha_new_1 = self.alpha[i1] + self.Y[i1] * self.Y[i2] * (self.alpha[i2] - alpha_new_2)\n",
    "\n",
    "            b_new_1 = -E1 - y1 * K11 * (alpha_new_1 - alpha_old_1) - y2 * K12 * (alpha_new_2 - alpha_old_2) + self.b\n",
    "\n",
    "            b_new_2 = -E2 - y1 * K12 * (alpha_new_1 - alpha_old_1) - y2 * K22 * (alpha_new_2 - alpha_old_2) + self.b\n",
    "\n",
    "\n",
    "            if 0 < alpha_new_1 < self.C:\n",
    "                b_new = b_new_1\n",
    "            elif 0 < alpha_new_2 < self.C:\n",
    "                b_new = b_new_2\n",
    "            else:\n",
    "                b_new = (b_new_1 + b_new_2) / 2.0\n",
    "            \n",
    "            self.alpha[i1] = alpha_new_1\n",
    "            self.alpha[i2] = alpha_new_2\n",
    "\n",
    "            self.b = b_new\n",
    "\n",
    "            self.E = [self._E(i) for i in range(self.m)]\n",
    "        return 'done'\n",
    "    def predict(self, data):\n",
    "        r = self.b\n",
    "        for i in range(self.m):\n",
    "            r += self.alpha[i] * self.Y[i] * self.kernel(data, self.X[i])\n",
    "        \n",
    "        return 1 if r > 0 else -1\n",
    "    \n",
    "    def score(self, X_test, Y_test):\n",
    "        right_count = 0\n",
    "\n",
    "        for x, y in zip(X_test, Y_test):\n",
    "            result = self.predict(x)\n",
    "            if result == y:\n",
    "                right_count += 1\n",
    "        return right_count / len(X_test)"
   ]
  },
  {
   "cell_type": "code",
   "execution_count": 137,
   "metadata": {},
   "outputs": [],
   "source": [
    "svm = SVM(max_iter=200, kernel='linear')"
   ]
  },
  {
   "cell_type": "code",
   "execution_count": 138,
   "metadata": {},
   "outputs": [
    {
     "output_type": "execute_result",
     "data": {
      "text/plain": [
       "'done'"
      ]
     },
     "metadata": {},
     "execution_count": 138
    }
   ],
   "source": [
    "svm.fit(X_train, y_train)"
   ]
  },
  {
   "cell_type": "code",
   "execution_count": 139,
   "metadata": {},
   "outputs": [
    {
     "output_type": "execute_result",
     "data": {
      "text/plain": [
       "1.0"
      ]
     },
     "metadata": {},
     "execution_count": 139
    }
   ],
   "source": [
    "svm.score(X_test, y_test)"
   ]
  },
  {
   "cell_type": "code",
   "execution_count": 140,
   "metadata": {},
   "outputs": [],
   "source": [
    "from sklearn.svm import SVC"
   ]
  },
  {
   "cell_type": "code",
   "execution_count": 141,
   "metadata": {},
   "outputs": [
    {
     "output_type": "execute_result",
     "data": {
      "text/plain": [
       "SVC(C=1.0, break_ties=False, cache_size=200, class_weight=None, coef0=0.0,\n",
       "    decision_function_shape='ovr', degree=3, gamma='scale', kernel='linear',\n",
       "    max_iter=-1, probability=False, random_state=None, shrinking=True,\n",
       "    tol=0.001, verbose=False)"
      ]
     },
     "metadata": {},
     "execution_count": 141
    }
   ],
   "source": [
    "slf = SVC(kernel='linear')\n",
    "slf.fit(X_train, y_train)"
   ]
  },
  {
   "cell_type": "code",
   "execution_count": 142,
   "metadata": {},
   "outputs": [
    {
     "output_type": "execute_result",
     "data": {
      "text/plain": [
       "1.0"
      ]
     },
     "metadata": {},
     "execution_count": 142
    }
   ],
   "source": [
    "slf.score(X_test, y_test)"
   ]
  },
  {
   "cell_type": "code",
   "execution_count": null,
   "metadata": {},
   "outputs": [],
   "source": []
  }
 ]
}